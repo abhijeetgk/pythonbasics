{
 "cells": [
  {
   "cell_type": "code",
   "execution_count": 2,
   "id": "440c5202",
   "metadata": {},
   "outputs": [
    {
     "name": "stdout",
     "output_type": "stream",
     "text": [
      "abhijeet   22\n"
     ]
    }
   ],
   "source": [
    "class Person:\n",
    "    def __init__(self):\n",
    "        self.name=\"abhijeet\"\n",
    "        self.age=\"22\"\n",
    "    def printinfo(self):\n",
    "        print(self.name,\" \",self.age)\n",
    "\n",
    "p=Person()\n",
    "p.printinfo()"
   ]
  },
  {
   "cell_type": "code",
   "execution_count": null,
   "id": "ff026fbf",
   "metadata": {},
   "outputs": [],
   "source": []
  }
 ],
 "metadata": {
  "kernelspec": {
   "display_name": "Python 3 (ipykernel)",
   "language": "python",
   "name": "python3"
  },
  "language_info": {
   "codemirror_mode": {
    "name": "ipython",
    "version": 3
   },
   "file_extension": ".py",
   "mimetype": "text/x-python",
   "name": "python",
   "nbconvert_exporter": "python",
   "pygments_lexer": "ipython3",
   "version": "3.10.0"
  }
 },
 "nbformat": 4,
 "nbformat_minor": 5
}
